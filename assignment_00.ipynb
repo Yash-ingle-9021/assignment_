{
 "cells": [
  {
   "cell_type": "code",
   "execution_count": 56,
   "metadata": {},
   "outputs": [
    {
     "name": "stdout",
     "output_type": "stream",
     "text": [
      "30th jan :- ASSIGNMENT_01\n"
     ]
    }
   ],
   "source": [
    "print(\"30th jan :- ASSIGNMENT_01\")"
   ]
  },
  {
   "cell_type": "code",
   "execution_count": 19,
   "metadata": {},
   "outputs": [
    {
     "name": "stdout",
     "output_type": "stream",
     "text": [
      "Q_1_ANS :- \n",
      "Q_1_Code Otput\n",
      "Marks :-  86\n",
      "Congragulation \n",
      "Your gread is B\n"
     ]
    }
   ],
   "source": [
    "print(\"Q_1_ANS :- \")\n",
    "print(\"Q_1_Code Otput\")\n",
    "marks = int(input(\"Enter your marks\"))\n",
    "print( \"Marks :- \",marks)\n",
    "if marks > 90:\n",
    "    print(\"Congragulation \")\n",
    "    print(\"your gread is A\")\n",
    "elif marks > 80 and marks <= 90:\n",
    "    print(\"Congragulation \")\n",
    "    print(\"Your gread is B\")\n",
    "elif marks >= 60 and marks <= 80:\n",
    "    print(\"Congragulation \")\n",
    "    print(\"Your gread is C\")\n",
    "elif marks > 30 :\n",
    "    print(\"Congragulation \")\n",
    "    print(\"Your gread is D\")\n",
    "elif marks <= 30 :\n",
    "    print(\"You are fail \")\n",
    "    print(\"Try next time \")\n"
   ]
  },
  {
   "cell_type": "code",
   "execution_count": 25,
   "metadata": {},
   "outputs": [
    {
     "name": "stdout",
     "output_type": "stream",
     "text": [
      "Q_2_ANS :- \n",
      "800000 Rs Road tax to be paid according 15%\n"
     ]
    }
   ],
   "source": [
    "print(\"Q_2_ANS :- \")\n",
    "C_price = int(input(\"Ënter your Price(RS)\"))\n",
    "if C_price > 100000:\n",
    "    print(C_price,\"Rs Road tax to be paid according 15%\")\n",
    "elif C_price >50000 and C_price<= 100000:\n",
    "    print(C_price,\"Rs Road tax to be paid according 10%\")\n",
    "elif C_price <= 50000:\n",
    "    print(C_price,\"Rs Road tax to be paid according 5%\")"
   ]
  },
  {
   "cell_type": "code",
   "execution_count": 31,
   "metadata": {},
   "outputs": [
    {
     "name": "stdout",
     "output_type": "stream",
     "text": [
      "Q_3_ANS :- \n",
      "City :- Agra and Monument :- Taj Mahal\n"
     ]
    }
   ],
   "source": [
    "print(\"Q_3_ANS :- \")\n",
    "City = input(\"Ënter your City\")\n",
    "if City == \"delhi\":\n",
    "    print(\"City :- Delhi and Monument :- Read Fort\")\n",
    "elif City == \"agra\":\n",
    "    print(\"City :- Agra and Monument :- Taj Mahal\")\n",
    "elif City == \"jaipur\":\n",
    "    print(\"City :- Jaipur and Monument :- Hai Mahal\")\n",
    "else:\n",
    "    print( City,\":- Not Found This City \")"
   ]
  },
  {
   "cell_type": "code",
   "execution_count": 55,
   "metadata": {},
   "outputs": [
    {
     "name": "stdout",
     "output_type": "stream",
     "text": [
      "Q_4_ANS :- \n",
      "60 :- is divisible by 3\n"
     ]
    }
   ],
   "source": [
    "print(\"Q_4_ANS :- \")\n",
    "num = int(input(\"Enter your number\"))\n",
    "\n",
    "if num%3 ==0:\n",
    "    print(num,\":- is divisible by 3\")\n",
    "else:\n",
    "    print(num,\":- is not divisible by 3\")"
   ]
  },
  {
   "cell_type": "code",
   "execution_count": 40,
   "metadata": {},
   "outputs": [
    {
     "name": "stdout",
     "output_type": "stream",
     "text": [
      "Q_5_ANS :- Python While Loop is used to execute a block of statements repeatedly until a given condition is satisfied. And when the condition becomes false, the line immediately after the loop in the program is executed. While loop falls under the category of indefinite iteration. Indefinite iteration means that the number of times the loop is executed isn't specified explicitly in advance. Statements represent all the statements indented by the same number of character spaces after a programming construct are considered to be part of a single block of code. Python uses indentation as its method of grouping statements. When a while loop is executed, expr is first evaluated in a Boolean context and if it is true, the loop body is executed. Then the expr is checked again, if it is still true then the body is executed again and this continues until the expression becomes false. \n",
      "EX :- \n",
      "Count is  1\n",
      "Count is  2\n",
      "Count is  3\n",
      "Count is  4\n",
      "Count is  5\n",
      "Count is  6\n",
      "Count is  7\n",
      "Count is  8\n",
      "Count is  9\n",
      "Count is  10\n",
      "The loop has ended.\n"
     ]
    }
   ],
   "source": [
    "print(\"Q_5_ANS :- Python While Loop is used to execute a block of statements repeatedly until a given condition is satisfied. And when the condition becomes false, the line immediately after the loop in the program is executed. While loop falls under the category of indefinite iteration. Indefinite iteration means that the number of times the loop is executed isn't specified explicitly in advance. Statements represent all the statements indented by the same number of character spaces after a programming construct are considered to be part of a single block of code. Python uses indentation as its method of grouping statements. When a while loop is executed, expr is first evaluated in a Boolean context and if it is true, the loop body is executed. Then the expr is checked again, if it is still true then the body is executed again and this continues until the expression becomes false. \")\n",
    "print(\"EX :- \")\n",
    "\n",
    "count = 0\n",
    "while True:\n",
    "    count += 1\n",
    "    print(\"Count is \", count)\n",
    "    if count == 10:\n",
    "        break\n",
    "print(\"The loop has ended.\")"
   ]
  },
  {
   "cell_type": "code",
   "execution_count": 48,
   "metadata": {},
   "outputs": [
    {
     "name": "stdout",
     "output_type": "stream",
     "text": [
      "Q_6_ANS :- \n",
      "EX :- Pattern 1\n",
      "\n",
      "1 \n",
      "2 2 \n",
      "3 3 3 \n",
      "4 4 4 4 \n",
      "5 5 5 5 5 \n",
      "\n",
      "EX :- Pattern 2\n",
      "5 4 3 2 1 \n",
      "4 3 2 1 \n",
      "3 2 1 \n",
      "2 1 \n",
      "1 \n",
      "\n",
      "EX :- Pattern 3\n",
      "          1 \n",
      "        1 2 \n",
      "      1 2 3 \n",
      "    1 2 3 4 \n",
      "  1 2 3 4 5 \n"
     ]
    }
   ],
   "source": [
    "print(\"Q_6_ANS :- \")\n",
    "print(\"EX :- Pattern 1\")\n",
    "rows = 6\n",
    "for i in range(rows):\n",
    "    for j in range(i):\n",
    "        print(i, end=' ')\n",
    "    print('')\n",
    "print()\n",
    "\n",
    "print(\"EX :- Pattern 2\")\n",
    "rows = 5\n",
    "for i in range(0, rows + 1):\n",
    "    for j in range(rows - i, 0, -1):\n",
    "        print(j, end=' ')\n",
    "    print()\n",
    "\n",
    "print(\"EX :- Pattern 3\")\n",
    "rows = 6\n",
    "for i in range(1, rows):\n",
    "    num = 1\n",
    "    for j in range(rows, 0, -1):\n",
    "        if j > i:\n",
    "            print(\" \", end=' ')\n",
    "        else:\n",
    "            print(num, end=' ')\n",
    "            num += 1\n",
    "    print(\"\")\n"
   ]
  },
  {
   "cell_type": "code",
   "execution_count": 49,
   "metadata": {},
   "outputs": [
    {
     "name": "stdout",
     "output_type": "stream",
     "text": [
      "Q_7_ANS :- \n",
      "10\n",
      "9\n",
      "8\n",
      "7\n",
      "6\n",
      "5\n",
      "4\n",
      "3\n",
      "2\n",
      "1\n"
     ]
    }
   ],
   "source": [
    "print(\"Q_7_ANS :- \")\n",
    "i = 10\n",
    "while i > 0:\n",
    "    print(i)\n",
    "    i = i - 1"
   ]
  },
  {
   "cell_type": "code",
   "execution_count": 50,
   "metadata": {},
   "outputs": [
    {
     "name": "stdout",
     "output_type": "stream",
     "text": [
      "Q_8_ANS :- \n",
      "10\n",
      "9\n",
      "8\n",
      "7\n",
      "6\n",
      "5\n",
      "4\n",
      "3\n",
      "2\n",
      "1\n"
     ]
    }
   ],
   "source": [
    "print(\"Q_8_ANS :- \")\n",
    "i = 10\n",
    "while i > 0:\n",
    "    print(i)\n",
    "    i = i - 1"
   ]
  },
  {
   "cell_type": "code",
   "execution_count": null,
   "metadata": {},
   "outputs": [],
   "source": []
  }
 ],
 "metadata": {
  "kernelspec": {
   "display_name": "Python 3",
   "language": "python",
   "name": "python3"
  },
  "language_info": {
   "codemirror_mode": {
    "name": "ipython",
    "version": 3
   },
   "file_extension": ".py",
   "mimetype": "text/x-python",
   "name": "python",
   "nbconvert_exporter": "python",
   "pygments_lexer": "ipython3",
   "version": "3.10.0"
  },
  "orig_nbformat": 4,
  "vscode": {
   "interpreter": {
    "hash": "fdeaa5d4d36968213c2982d2716b964fdcbe01a872db07f82123c6518902f24d"
   }
  }
 },
 "nbformat": 4,
 "nbformat_minor": 2
}
